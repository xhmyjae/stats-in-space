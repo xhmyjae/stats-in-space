{
 "cells": [
  {
   "cell_type": "markdown",
   "source": [
    "# Une utilisation optimale de GitHub ?\n",
    "##### ROY - TOMATIS - MATHS DATASCIENCE S5"
   ],
   "metadata": {
    "collapsed": false
   }
  },
  {
   "cell_type": "markdown",
   "source": [
    "### GitHub, un pilier du monde du développement\n",
    "\n",
    "1. 94 millions de développeurs dont 20,5 millions de nouvelles recrues en 2022\n",
    "2. 1 milliard de $ de revenus en 2022\n",
    "3. 3,5 milliards de contributions. 85,7 millions de nouveaux repos créés via GitHub en 2023\n",
    "4. 90 % des contributeurs de projets open source proviennent de GitHub\n",
    "5.  Ancrés dans le monde des affaires, la filiale rencontre peu de difficultés pour s’imposer auprès de grands groupes."
   ],
   "metadata": {
    "collapsed": false
   }
  },
  {
   "cell_type": "markdown",
   "source": [
    "### Que permet un repos GitHub populaire ?\n",
    "\n",
    "1. **Visibilité accrue :** Les repos populaires attirent l'attention, meilleure visibilité du projet et intérêt communautaire.\n",
    "2. **Contributions collaboratives :** Encouragent les contributions externes (pull requests), donc qualité du code et favorise une collaboration ouverte.\n",
    "3. **Feedback et améliorations :** Les issues permettent d'identifier les bugs, demander des fonctionnalités et discuter des améliorations, favorisant ainsi le développement continu et la satisfaction des utilisateurs.\n",
    "4. **Diversité des cas d'utilisation :** Avec les forks, les développeurs peuvent adapter le projet à divers besoins, fournissant des idées pour des fonctionnalités et améliorations pour rendre le projet plus polyvalent et adaptable.\n",
    "5. **Réputation et validation :** Renforce la réputation du développeur en validant la qualité de son travail, peut avoir un impact positif sur sa carrière professionnelle et ses projets futurs."
   ],
   "metadata": {
    "collapsed": false
   }
  },
  {
   "cell_type": "markdown",
   "source": [
    "Pour améliorer les statistiques d'un dépôt Github, il est crucial de comprendre différents aspects tels que l'engagement de la communauté, la qualité du code, la fréquence des mises à jour, etc.\n",
    "Nous allons donc voir plusieurs aspects avec des graphiques et des analyses pour comprendre les statistiques d'un dépôt Github."
   ],
   "metadata": {
    "collapsed": false
   }
  },
  {
   "cell_type": "markdown",
   "source": [
    "Pour ce faire nous allons utiliser deux csv :\n",
    "- `repositories.csv` : contient des informations sur les dépôts.\n",
    "- `X.csv` : contient des informations sur les commits, les problèmes, les étoiles, les fourches, etc."
   ],
   "metadata": {
    "collapsed": false
   }
  },
  {
   "cell_type": "code",
   "execution_count": 26,
   "outputs": [],
   "source": [
    "import numpy as np\n",
    "import matplotlib.pyplot as plt\n",
    "import pandas as pd\n",
    "import seaborn as sns"
   ],
   "metadata": {
    "collapsed": false
   }
  },
  {
   "cell_type": "code",
   "execution_count": 27,
   "outputs": [],
   "source": [
    "repositories = pd.read_csv('repositories.csv', parse_dates=['Created At', 'Updated At'])"
   ],
   "metadata": {
    "collapsed": false
   }
  },
  {
   "cell_type": "markdown",
   "source": [
    "# 1. Tendance des mises à jour au fil du temps."
   ],
   "metadata": {
    "collapsed": false
   }
  },
  {
   "cell_type": "markdown",
   "source": [
    "#### Graphique de la fréquence des mises à jour par rapport au temps (Updated At vs. Created At)."
   ],
   "metadata": {
    "collapsed": false
   }
  },
  {
   "cell_type": "code",
   "execution_count": 28,
   "outputs": [],
   "source": [
    "# Plot qui compare 'Updated At' et 'Created At' avec le nombre de repositories\n",
    "repositories.groupby([repositories['Created At'].dt.year]).size().plot(kind='line')\n",
    "repositories.groupby([repositories['Updated At'].dt.year]).size().plot(kind='line')"
   ],
   "metadata": {
    "collapsed": false
   }
  },
  {
   "cell_type": "markdown",
   "source": [
    "#### Graphique de la croissance de la taille du code au fil du temps."
   ],
   "metadata": {
    "collapsed": false
   }
  },
  {
   "cell_type": "code",
   "outputs": [],
   "source": [
    "# Plot qui compare 'Size' et 'Created At' avec le nombre de repositories en moyenne\n",
    "repositories['Created At Year'] = repositories['Created At'].dt.year\n",
    "repositories.groupby('Created At Year')['Size'].mean().plot(kind='line')"
   ],
   "metadata": {
    "collapsed": false
   },
   "execution_count": 29
  },
  {
   "cell_type": "markdown",
   "source": [
    "# 2. Engagement de la communauté"
   ],
   "metadata": {
    "collapsed": false
   }
  },
  {
   "cell_type": "markdown",
   "source": [
    "#### Graphique du nombre d'étoiles (Stars) et de fourches (Forks) par rapport au temps."
   ],
   "metadata": {
    "collapsed": false
   }
  },
  {
   "cell_type": "code",
   "outputs": [],
   "source": [
    "# Plot qui compare 'Stars' et 'Forks' avec le nombre de repositories\n",
    "repositories.groupby([repositories['Created At'].dt.year])['Stars'].mean().plot(kind='line')\n",
    "repositories.groupby([repositories['Created At'].dt.year])['Forks'].mean().plot(kind='line')\n",
    "plt.title('Engagement de la communauté : Stars et Forks au fil du temps')\n",
    "plt.xlabel('Date de création')\n",
    "plt.ylabel('Nombre')\n",
    "plt.legend()"
   ],
   "metadata": {
    "collapsed": false
   },
   "execution_count": 30
  },
  {
   "cell_type": "markdown",
   "source": [
    "#### Graphique du nombre de problèmes (Issues) ouverts et fermés au fil du temps."
   ],
   "metadata": {
    "collapsed": false
   }
  },
  {
   "cell_type": "markdown",
   "source": [
    "# 3. Qualité du code"
   ],
   "metadata": {
    "collapsed": false
   }
  },
  {
   "cell_type": "markdown",
   "source": [
    "#### Analyse de la distribution des langages de programmation utilisés."
   ],
   "metadata": {
    "collapsed": false
   }
  },
  {
   "cell_type": "code",
   "outputs": [],
   "source": [
    "# Plot qui compare 'Language' avec le nombre de repositories, prend les 20 premiers langages\n",
    "none_value = 'None'\n",
    "repositories['Language'] = repositories['Language'].fillna(none_value)\n",
    "repositories_languages = repositories.groupby('Language').size().sort_values(ascending=True).tail(20)\n",
    "repositories_languages.plot(kind='barh')\n",
    "# Highlight the None value\n",
    "index = repositories_languages.index.get_loc(none_value)\n",
    "plt.gca().get_children()[index].set_color('r')\n",
    "plt.ylabel('Langage')\n",
    "plt.xlabel('Nombre de dépôts')"
   ],
   "metadata": {
    "collapsed": false
   },
   "execution_count": 31
  },
  {
   "cell_type": "markdown",
   "source": [
    "#### Graphique de la taille moyenne des fichiers par langage de programmation."
   ],
   "metadata": {
    "collapsed": false
   }
  },
  {
   "cell_type": "code",
   "outputs": [],
   "source": [
    "# Plot qui compare 'Language' et 'Size' avec le nombre de repositories\n",
    "repositories.groupby('Language')['Size'].mean().sort_values(ascending=True).tail(25).plot(kind='barh')\n",
    "plt.ylabel('Langage')\n",
    "plt.xlabel('Taille moyenne')"
   ],
   "metadata": {
    "collapsed": false
   },
   "execution_count": 32
  },
  {
   "cell_type": "markdown",
   "source": [
    "# 4. Relation entre différentes métriques"
   ],
   "metadata": {
    "collapsed": false
   }
  },
  {
   "cell_type": "markdown",
   "source": [
    "#### Corrélation entre le nombre d'étoiles (Stars) et le nombre de problèmes ouverts (Issues)."
   ],
   "metadata": {
    "collapsed": false
   }
  },
  {
   "cell_type": "code",
   "outputs": [],
   "source": [
    "# Plot qui compare 'Stars' et 'Issues' avec le nombre de repositories\n",
    "sns.scatterplot(x=repositories['Stars'], y=repositories['Issues'])\n",
    "plt.title('Corrélation entre le nombre d\\'étoiles et le nombre de problèmes')\n",
    "plt.xlabel('Nombre de stars')\n",
    "plt.ylabel('Nombre d\\'issues')"
   ],
   "metadata": {
    "collapsed": false
   },
   "execution_count": 33
  },
  {
   "cell_type": "markdown",
   "source": [
    "#### Corrélation entre la taille du code et le nombre de contributions par semaine."
   ],
   "metadata": {
    "collapsed": false
   }
  },
  {
   "cell_type": "code",
   "outputs": [],
   "source": [],
   "metadata": {
    "collapsed": false
   },
   "execution_count": 33
  },
  {
   "cell_type": "markdown",
   "source": [
    "# 5. Contribution des développeurs"
   ],
   "metadata": {
    "collapsed": false
   }
  },
  {
   "cell_type": "markdown",
   "source": [
    "#### Graphique des principaux contributeurs (basé sur les commits) et de leur activité au fil du temps."
   ],
   "metadata": {
    "collapsed": false
   }
  },
  {
   "cell_type": "markdown",
   "source": [
    "#### Répartition des contributions par auteur."
   ],
   "metadata": {
    "collapsed": false
   }
  },
  {
   "cell_type": "markdown",
   "source": [
    "# 6. Utilisation des fonctionnalités de GitHub"
   ],
   "metadata": {
    "collapsed": false
   }
  },
  {
   "cell_type": "markdown",
   "source": [
    "#### Graphique montrant l'utilisation des wiki, des projets, des téléchargements, etc."
   ],
   "metadata": {
    "collapsed": false
   }
  },
  {
   "cell_type": "markdown",
   "source": [
    "# 7. Analyse comparative"
   ],
   "metadata": {
    "collapsed": false
   }
  },
  {
   "cell_type": "markdown",
   "source": [
    "#### Comparaison des métriques entre différents dépôts pour identifier les meilleures pratiques."
   ],
   "metadata": {
    "collapsed": false
   }
  },
  {
   "cell_type": "code",
   "execution_count": 34,
   "outputs": [],
   "source": [
    "metrics = ['Stars', 'Forks', 'Issues', 'Watchers', 'Size']\n",
    "\n",
    "# Sélection de quelques dépôts pour la comparaison\n",
    "selected_repos = repositories.sample(n=5, random_state=42)\n",
    "\n",
    "# Création des graphiques comparatifs\n",
    "plt.figure(figsize=(12, 8))\n",
    "for i, metric in enumerate(metrics):\n",
    "    plt.subplot(2, 3, i + 1)\n",
    "    sns.barplot(x='Name', y=metric, data=selected_repos)\n",
    "    plt.title(f'Comparaison de {metric}')\n",
    "    plt.xlabel('Dépôt')\n",
    "    plt.ylabel(metric)\n",
    "    plt.xticks(rotation=45)\n",
    "plt.tight_layout()\n",
    "plt.show()"
   ],
   "metadata": {
    "collapsed": false
   }
  },
  {
   "cell_type": "markdown",
   "source": [
    "# 8. Analyse de la stabilité et de la maintenance"
   ],
   "metadata": {
    "collapsed": false
   }
  },
  {
   "cell_type": "markdown",
   "source": [
    "#### Graphique du nombre de problèmes ouverts et fermés par rapport au temps pour évaluer la stabilité du projet."
   ],
   "metadata": {
    "collapsed": false
   }
  },
  {
   "cell_type": "markdown",
   "source": [
    "#### Graphique de la distribution des branches par défaut et de leur activité."
   ],
   "metadata": {
    "collapsed": false
   }
  },
  {
   "cell_type": "markdown",
   "source": [
    "# 9. Analyse de l'engagement de la communauté"
   ],
   "metadata": {
    "collapsed": false
   }
  },
  {
   "cell_type": "markdown",
   "source": [
    "#### Graphique montrant le nombre de contributeurs uniques au fil du temps."
   ],
   "metadata": {
    "collapsed": false
   }
  },
  {
   "cell_type": "markdown",
   "source": [
    "# 10. Analyse de la documentation"
   ],
   "metadata": {
    "collapsed": false
   }
  },
  {
   "cell_type": "markdown",
   "source": [
    "#### Graphique montrant l'utilisation du wiki et de la documentation par rapport à d'autres activités."
   ],
   "metadata": {
    "collapsed": false
   }
  }
 ],
 "metadata": {
  "kernelspec": {
   "display_name": "Python 3",
   "language": "python",
   "name": "python3"
  },
  "language_info": {
   "codemirror_mode": {
    "name": "ipython",
    "version": 2
   },
   "file_extension": ".py",
   "mimetype": "text/x-python",
   "name": "python",
   "nbconvert_exporter": "python",
   "pygments_lexer": "ipython2",
   "version": "2.7.6"
  }
 },
 "nbformat": 4,
 "nbformat_minor": 0
}
